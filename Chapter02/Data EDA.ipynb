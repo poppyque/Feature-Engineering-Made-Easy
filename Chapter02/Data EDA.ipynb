{
 "cells": [
  {
   "cell_type": "code",
   "execution_count": 1,
   "metadata": {},
   "outputs": [],
   "source": [
    "# import packages we need for exploratory data analysis (EDA)\n",
    "import pandas as pd  # to store tabular data\n",
    "import numpy as np  # to do some math\n",
    "import matplotlib.pyplot as plt  # a popular data visualization tool\n",
    "import seaborn as sns  # another popular data visualization tool\n",
    "%matplotlib inline  \n",
    "plt.style.use('fivethirtyeight')  # a popular data visualization theme"
   ]
  },
  {
   "cell_type": "markdown",
   "metadata": {},
   "source": [
    "# Salary Ranges Dataset:"
   ]
  },
  {
   "cell_type": "code",
   "execution_count": 2,
   "metadata": {},
   "outputs": [],
   "source": [
    "# load in the data set\n",
    "salary_ranges = pd.read_csv('salary-ranges-by-job-classification.csv')"
   ]
  },
  {
   "cell_type": "code",
   "execution_count": 3,
   "metadata": {},
   "outputs": [
    {
     "data": {
      "text/html": [
       "<div>\n",
       "<style scoped>\n",
       "    .dataframe tbody tr th:only-of-type {\n",
       "        vertical-align: middle;\n",
       "    }\n",
       "\n",
       "    .dataframe tbody tr th {\n",
       "        vertical-align: top;\n",
       "    }\n",
       "\n",
       "    .dataframe thead th {\n",
       "        text-align: right;\n",
       "    }\n",
       "</style>\n",
       "<table border=\"1\" class=\"dataframe\">\n",
       "  <thead>\n",
       "    <tr style=\"text-align: right;\">\n",
       "      <th></th>\n",
       "      <th>SetID</th>\n",
       "      <th>Job Code</th>\n",
       "      <th>Eff Date</th>\n",
       "      <th>Sal End Date</th>\n",
       "      <th>Salary SetID</th>\n",
       "      <th>Sal Plan</th>\n",
       "      <th>Grade</th>\n",
       "      <th>Step</th>\n",
       "      <th>Biweekly High Rate</th>\n",
       "      <th>Biweekly Low Rate</th>\n",
       "      <th>Union Code</th>\n",
       "      <th>Extended Step</th>\n",
       "      <th>Pay Type</th>\n",
       "    </tr>\n",
       "  </thead>\n",
       "  <tbody>\n",
       "    <tr>\n",
       "      <th>0</th>\n",
       "      <td>COMMN</td>\n",
       "      <td>0109</td>\n",
       "      <td>2009-07-01T00:00:00</td>\n",
       "      <td>2010-06-30T00:00:00</td>\n",
       "      <td>COMMN</td>\n",
       "      <td>SFM</td>\n",
       "      <td>00000</td>\n",
       "      <td>1</td>\n",
       "      <td>0.0</td>\n",
       "      <td>0.0</td>\n",
       "      <td>330</td>\n",
       "      <td>0</td>\n",
       "      <td>C</td>\n",
       "    </tr>\n",
       "    <tr>\n",
       "      <th>1</th>\n",
       "      <td>COMMN</td>\n",
       "      <td>0110</td>\n",
       "      <td>2009-07-01T00:00:00</td>\n",
       "      <td>2010-06-30T00:00:00</td>\n",
       "      <td>COMMN</td>\n",
       "      <td>SFM</td>\n",
       "      <td>00000</td>\n",
       "      <td>1</td>\n",
       "      <td>15.0</td>\n",
       "      <td>15.0</td>\n",
       "      <td>323</td>\n",
       "      <td>0</td>\n",
       "      <td>D</td>\n",
       "    </tr>\n",
       "    <tr>\n",
       "      <th>2</th>\n",
       "      <td>COMMN</td>\n",
       "      <td>0111</td>\n",
       "      <td>2009-07-01T00:00:00</td>\n",
       "      <td>2010-06-30T00:00:00</td>\n",
       "      <td>COMMN</td>\n",
       "      <td>SFM</td>\n",
       "      <td>00000</td>\n",
       "      <td>1</td>\n",
       "      <td>25.0</td>\n",
       "      <td>25.0</td>\n",
       "      <td>323</td>\n",
       "      <td>0</td>\n",
       "      <td>D</td>\n",
       "    </tr>\n",
       "    <tr>\n",
       "      <th>3</th>\n",
       "      <td>COMMN</td>\n",
       "      <td>0112</td>\n",
       "      <td>2009-07-01T00:00:00</td>\n",
       "      <td>2010-06-30T00:00:00</td>\n",
       "      <td>COMMN</td>\n",
       "      <td>SFM</td>\n",
       "      <td>00000</td>\n",
       "      <td>1</td>\n",
       "      <td>50.0</td>\n",
       "      <td>50.0</td>\n",
       "      <td>323</td>\n",
       "      <td>0</td>\n",
       "      <td>D</td>\n",
       "    </tr>\n",
       "    <tr>\n",
       "      <th>4</th>\n",
       "      <td>COMMN</td>\n",
       "      <td>0114</td>\n",
       "      <td>2009-07-01T00:00:00</td>\n",
       "      <td>2010-06-30T00:00:00</td>\n",
       "      <td>COMMN</td>\n",
       "      <td>SFM</td>\n",
       "      <td>00000</td>\n",
       "      <td>1</td>\n",
       "      <td>100.0</td>\n",
       "      <td>100.0</td>\n",
       "      <td>323</td>\n",
       "      <td>0</td>\n",
       "      <td>M</td>\n",
       "    </tr>\n",
       "  </tbody>\n",
       "</table>\n",
       "</div>"
      ],
      "text/plain": [
       "   SetID Job Code             Eff Date         Sal End Date Salary SetID  \\\n",
       "0  COMMN     0109  2009-07-01T00:00:00  2010-06-30T00:00:00        COMMN   \n",
       "1  COMMN     0110  2009-07-01T00:00:00  2010-06-30T00:00:00        COMMN   \n",
       "2  COMMN     0111  2009-07-01T00:00:00  2010-06-30T00:00:00        COMMN   \n",
       "3  COMMN     0112  2009-07-01T00:00:00  2010-06-30T00:00:00        COMMN   \n",
       "4  COMMN     0114  2009-07-01T00:00:00  2010-06-30T00:00:00        COMMN   \n",
       "\n",
       "  Sal Plan  Grade  Step  Biweekly High Rate  Biweekly Low Rate  Union Code  \\\n",
       "0      SFM  00000     1                 0.0                0.0         330   \n",
       "1      SFM  00000     1                15.0               15.0         323   \n",
       "2      SFM  00000     1                25.0               25.0         323   \n",
       "3      SFM  00000     1                50.0               50.0         323   \n",
       "4      SFM  00000     1               100.0              100.0         323   \n",
       "\n",
       "   Extended Step Pay Type  \n",
       "0              0        C  \n",
       "1              0        D  \n",
       "2              0        D  \n",
       "3              0        D  \n",
       "4              0        M  "
      ]
     },
     "execution_count": 3,
     "metadata": {},
     "output_type": "execute_result"
    }
   ],
   "source": [
    "# view the first few rows and the headers\n",
    "salary_ranges.head()"
   ]
  },
  {
   "cell_type": "code",
   "execution_count": 4,
   "metadata": {},
   "outputs": [
    {
     "name": "stdout",
     "output_type": "stream",
     "text": [
      "<class 'pandas.core.frame.DataFrame'>\n",
      "RangeIndex: 1356 entries, 0 to 1355\n",
      "Data columns (total 13 columns):\n",
      "SetID                 1356 non-null object\n",
      "Job Code              1356 non-null object\n",
      "Eff Date              1356 non-null object\n",
      "Sal End Date          1356 non-null object\n",
      "Salary SetID          1356 non-null object\n",
      "Sal Plan              1356 non-null object\n",
      "Grade                 1356 non-null object\n",
      "Step                  1356 non-null int64\n",
      "Biweekly High Rate    1356 non-null float64\n",
      "Biweekly Low Rate     1356 non-null float64\n",
      "Union Code            1356 non-null int64\n",
      "Extended Step         1356 non-null int64\n",
      "Pay Type              1356 non-null object\n",
      "dtypes: float64(2), int64(3), object(8)\n",
      "memory usage: 137.8+ KB\n"
     ]
    }
   ],
   "source": [
    "# get a sense of how many rows of data there are, if there are any missing values, and what data type each column has\n",
    "salary_ranges.info()"
   ]
  },
  {
   "cell_type": "code",
   "execution_count": 5,
   "metadata": {},
   "outputs": [
    {
     "data": {
      "text/plain": [
       "SetID                 0\n",
       "Job Code              0\n",
       "Eff Date              0\n",
       "Sal End Date          0\n",
       "Salary SetID          0\n",
       "Sal Plan              0\n",
       "Grade                 0\n",
       "Step                  0\n",
       "Biweekly High Rate    0\n",
       "Biweekly Low Rate     0\n",
       "Union Code            0\n",
       "Extended Step         0\n",
       "Pay Type              0\n",
       "dtype: int64"
      ]
     },
     "execution_count": 5,
     "metadata": {},
     "output_type": "execute_result"
    }
   ],
   "source": [
    "# another method to check for missing values\n",
    "salary_ranges.isnull().sum()"
   ]
  },
  {
   "cell_type": "code",
   "execution_count": 6,
   "metadata": {},
   "outputs": [
    {
     "data": {
      "text/plain": [
       "00000    61\n",
       "07450    12\n",
       "07420     9\n",
       "07170     9\n",
       "06870     9\n",
       "Name: Grade, dtype: int64"
      ]
     },
     "execution_count": 6,
     "metadata": {},
     "output_type": "execute_result"
    }
   ],
   "source": [
    "# Basic Value Counts of the Grade column\n",
    "salary_ranges['Grade'].value_counts().head()"
   ]
  },
  {
   "cell_type": "code",
   "execution_count": 7,
   "metadata": {},
   "outputs": [
    {
     "data": {
      "text/plain": [
       "<matplotlib.axes._subplots.AxesSubplot at 0x21e08ffa8d0>"
      ]
     },
     "execution_count": 7,
     "metadata": {},
     "output_type": "execute_result"
    },
    {
     "data": {
      "image/png": "[encoded data removed]",
      "text/plain": [
       "<Figure size 432x288 with 1 Axes>"
      ]
     },
     "metadata": {
      "needs_background": "light"
     },
     "output_type": "display_data"
    }
   ],
   "source": [
    "# Bar Chart of the Grade column\n",
    "salary_ranges['Grade'].value_counts().sort_values(ascending=False).head(20).plot(kind='bar')"
   ]
  },
  {
   "cell_type": "code",
   "execution_count": 8,
   "metadata": {},
   "outputs": [
    {
     "data": {
      "text/plain": [
       "<matplotlib.axes._subplots.AxesSubplot at 0x21e0b127240>"
      ]
     },
     "execution_count": 8,
     "metadata": {},
     "output_type": "execute_result"
    },
    {
     "data": {
      "image/png": "[encoded data removed]",
      "text/plain": [
       "<Figure size 432x288 with 1 Axes>"
      ]
     },
     "metadata": {},
     "output_type": "display_data"
    }
   ],
   "source": [
    "# Bar Chart of the Grade column as a pie chart (top 5 values only)\n",
    "salary_ranges['Grade'].value_counts().sort_values(ascending=False).head(5).plot(kind='pie')"
   ]
  },
  {
   "cell_type": "code",
   "execution_count": 9,
   "metadata": {},
   "outputs": [
    {
     "data": {
      "text/plain": [
       "<matplotlib.axes._subplots.AxesSubplot at 0x21e0b187e48>"
      ]
     },
     "execution_count": 9,
     "metadata": {},
     "output_type": "execute_result"
    },
    {
     "data": {
      "image/png": "[encoded data removed]",
      "text/plain": [
       "<Figure size 432x288 with 1 Axes>"
      ]
     },
     "metadata": {
      "needs_background": "light"
     },
     "output_type": "display_data"
    }
   ],
   "source": [
    "salary_ranges['Extended Step'].value_counts().plot(kind='bar')"
   ]
  },
  {
   "cell_type": "code",
   "execution_count": 10,
   "metadata": {},
   "outputs": [
    {
     "data": {
      "text/html": [
       "<div>\n",
       "<style scoped>\n",
       "    .dataframe tbody tr th:only-of-type {\n",
       "        vertical-align: middle;\n",
       "    }\n",
       "\n",
       "    .dataframe tbody tr th {\n",
       "        vertical-align: top;\n",
       "    }\n",
       "\n",
       "    .dataframe thead th {\n",
       "        text-align: right;\n",
       "    }\n",
       "</style>\n",
       "<table border=\"1\" class=\"dataframe\">\n",
       "  <thead>\n",
       "    <tr style=\"text-align: right;\">\n",
       "      <th></th>\n",
       "      <th>Step</th>\n",
       "      <th>Biweekly High Rate</th>\n",
       "      <th>Biweekly Low Rate</th>\n",
       "      <th>Union Code</th>\n",
       "      <th>Extended Step</th>\n",
       "    </tr>\n",
       "  </thead>\n",
       "  <tbody>\n",
       "    <tr>\n",
       "      <th>count</th>\n",
       "      <td>1356.000000</td>\n",
       "      <td>1356.000000</td>\n",
       "      <td>1356.000000</td>\n",
       "      <td>1356.000000</td>\n",
       "      <td>1356.000000</td>\n",
       "    </tr>\n",
       "    <tr>\n",
       "      <th>mean</th>\n",
       "      <td>1.294985</td>\n",
       "      <td>3161.727021</td>\n",
       "      <td>3754.652006</td>\n",
       "      <td>392.676991</td>\n",
       "      <td>0.150442</td>\n",
       "    </tr>\n",
       "    <tr>\n",
       "      <th>std</th>\n",
       "      <td>1.045816</td>\n",
       "      <td>1481.002904</td>\n",
       "      <td>1605.157054</td>\n",
       "      <td>338.100562</td>\n",
       "      <td>1.006734</td>\n",
       "    </tr>\n",
       "    <tr>\n",
       "      <th>min</th>\n",
       "      <td>1.000000</td>\n",
       "      <td>0.000000</td>\n",
       "      <td>0.000000</td>\n",
       "      <td>1.000000</td>\n",
       "      <td>0.000000</td>\n",
       "    </tr>\n",
       "    <tr>\n",
       "      <th>25%</th>\n",
       "      <td>1.000000</td>\n",
       "      <td>2145.000000</td>\n",
       "      <td>2607.000000</td>\n",
       "      <td>21.000000</td>\n",
       "      <td>0.000000</td>\n",
       "    </tr>\n",
       "    <tr>\n",
       "      <th>50%</th>\n",
       "      <td>1.000000</td>\n",
       "      <td>2856.500000</td>\n",
       "      <td>3465.000000</td>\n",
       "      <td>351.000000</td>\n",
       "      <td>0.000000</td>\n",
       "    </tr>\n",
       "    <tr>\n",
       "      <th>75%</th>\n",
       "      <td>1.000000</td>\n",
       "      <td>3703.000000</td>\n",
       "      <td>4484.000000</td>\n",
       "      <td>790.000000</td>\n",
       "      <td>0.000000</td>\n",
       "    </tr>\n",
       "    <tr>\n",
       "      <th>max</th>\n",
       "      <td>5.000000</td>\n",
       "      <td>12120.770000</td>\n",
       "      <td>12120.770000</td>\n",
       "      <td>990.000000</td>\n",
       "      <td>11.000000</td>\n",
       "    </tr>\n",
       "  </tbody>\n",
       "</table>\n",
       "</div>"
      ],
      "text/plain": [
       "              Step  Biweekly High Rate  Biweekly Low Rate   Union Code  \\\n",
       "count  1356.000000         1356.000000        1356.000000  1356.000000   \n",
       "mean      1.294985         3161.727021        3754.652006   392.676991   \n",
       "std       1.045816         1481.002904        1605.157054   338.100562   \n",
       "min       1.000000            0.000000           0.000000     1.000000   \n",
       "25%       1.000000         2145.000000        2607.000000    21.000000   \n",
       "50%       1.000000         2856.500000        3465.000000   351.000000   \n",
       "75%       1.000000         3703.000000        4484.000000   790.000000   \n",
       "max       5.000000        12120.770000       12120.770000   990.000000   \n",
       "\n",
       "       Extended Step  \n",
       "count    1356.000000  \n",
       "mean        0.150442  \n",
       "std         1.006734  \n",
       "min         0.000000  \n",
       "25%         0.000000  \n",
       "50%         0.000000  \n",
       "75%         0.000000  \n",
       "max        11.000000  "
      ]
     },
     "execution_count": 10,
     "metadata": {},
     "output_type": "execute_result"
    }
   ],
   "source": [
    "# show descriptive stats:\n",
    "salary_ranges.describe()"
   ]
  },
  {
   "cell_type": "code",
   "execution_count": 11,
   "metadata": {},
   "outputs": [
    {
     "data": {
      "text/html": [
       "<div>\n",
       "<style scoped>\n",
       "    .dataframe tbody tr th:only-of-type {\n",
       "        vertical-align: middle;\n",
       "    }\n",
       "\n",
       "    .dataframe tbody tr th {\n",
       "        vertical-align: top;\n",
       "    }\n",
       "\n",
       "    .dataframe thead th {\n",
       "        text-align: right;\n",
       "    }\n",
       "</style>\n",
       "<table border=\"1\" class=\"dataframe\">\n",
       "  <thead>\n",
       "    <tr style=\"text-align: right;\">\n",
       "      <th></th>\n",
       "      <th>Biweekly High Rate</th>\n",
       "      <th>Grade</th>\n",
       "    </tr>\n",
       "  </thead>\n",
       "  <tbody>\n",
       "    <tr>\n",
       "      <th>0</th>\n",
       "      <td>0.0</td>\n",
       "      <td>00000</td>\n",
       "    </tr>\n",
       "    <tr>\n",
       "      <th>1</th>\n",
       "      <td>15.0</td>\n",
       "      <td>00000</td>\n",
       "    </tr>\n",
       "    <tr>\n",
       "      <th>2</th>\n",
       "      <td>25.0</td>\n",
       "      <td>00000</td>\n",
       "    </tr>\n",
       "    <tr>\n",
       "      <th>3</th>\n",
       "      <td>50.0</td>\n",
       "      <td>00000</td>\n",
       "    </tr>\n",
       "    <tr>\n",
       "      <th>4</th>\n",
       "      <td>100.0</td>\n",
       "      <td>00000</td>\n",
       "    </tr>\n",
       "  </tbody>\n",
       "</table>\n",
       "</div>"
      ],
      "text/plain": [
       "   Biweekly High Rate  Grade\n",
       "0                 0.0  00000\n",
       "1                15.0  00000\n",
       "2                25.0  00000\n",
       "3                50.0  00000\n",
       "4               100.0  00000"
      ]
     },
     "execution_count": 11,
     "metadata": {},
     "output_type": "execute_result"
    }
   ],
   "source": [
    "salary_ranges = salary_ranges[['Biweekly High Rate', 'Grade']]\n",
    "\n",
    "salary_ranges.head(5)"
   ]
  },
  {
   "cell_type": "code",
   "execution_count": null,
   "metadata": {},
   "outputs": [],
   "source": []
  },
  {
   "cell_type": "code",
   "execution_count": 12,
   "metadata": {},
   "outputs": [
    {
     "data": {
      "text/plain": [
       "count     1356.000000\n",
       "mean      3161.727021\n",
       "std       1481.002904\n",
       "min          0.000000\n",
       "25%       2145.000000\n",
       "50%       2856.500000\n",
       "75%       3703.000000\n",
       "max      12120.770000\n",
       "Name: Biweekly High Rate, dtype: float64"
      ]
     },
     "execution_count": 12,
     "metadata": {},
     "output_type": "execute_result"
    }
   ],
   "source": [
    "# Rate has dollar signs in a few of them, we need to clean that up..\n",
    "salary_ranges['Biweekly High Rate'].describe()"
   ]
  },
  {
   "cell_type": "code",
   "execution_count": 13,
   "metadata": {},
   "outputs": [
    {
     "data": {
      "text/plain": [
       "0          0.0\n",
       "1         15.0\n",
       "2         25.0\n",
       "3         50.0\n",
       "4        100.0\n",
       "         ...  \n",
       "1351    2145.0\n",
       "1352    3041.0\n",
       "1353    3132.0\n",
       "1354    3453.0\n",
       "1355    3453.0\n",
       "Name: Biweekly High Rate, Length: 1356, dtype: float64"
      ]
     },
     "execution_count": 13,
     "metadata": {},
     "output_type": "execute_result"
    }
   ],
   "source": [
    "salary_ranges['Biweekly High Rate']"
   ]
  },
  {
   "cell_type": "code",
   "execution_count": 14,
   "metadata": {},
   "outputs": [],
   "source": [
    "# need to clean our Biweekly High columns to remove the dollar sign in order to visualize\n",
    "salary_ranges['Biweekly High Rate'] = salary_ranges['Biweekly High Rate'].map(lambda value: str(value).replace('$',''))"
   ]
  },
  {
   "cell_type": "code",
   "execution_count": 15,
   "metadata": {},
   "outputs": [
    {
     "data": {
      "text/html": [
       "<div>\n",
       "<style scoped>\n",
       "    .dataframe tbody tr th:only-of-type {\n",
       "        vertical-align: middle;\n",
       "    }\n",
       "\n",
       "    .dataframe tbody tr th {\n",
       "        vertical-align: top;\n",
       "    }\n",
       "\n",
       "    .dataframe thead th {\n",
       "        text-align: right;\n",
       "    }\n",
       "</style>\n",
       "<table border=\"1\" class=\"dataframe\">\n",
       "  <thead>\n",
       "    <tr style=\"text-align: right;\">\n",
       "      <th></th>\n",
       "      <th>Biweekly High Rate</th>\n",
       "      <th>Grade</th>\n",
       "    </tr>\n",
       "  </thead>\n",
       "  <tbody>\n",
       "    <tr>\n",
       "      <th>0</th>\n",
       "      <td>0.0</td>\n",
       "      <td>00000</td>\n",
       "    </tr>\n",
       "    <tr>\n",
       "      <th>1</th>\n",
       "      <td>15.0</td>\n",
       "      <td>00000</td>\n",
       "    </tr>\n",
       "    <tr>\n",
       "      <th>2</th>\n",
       "      <td>25.0</td>\n",
       "      <td>00000</td>\n",
       "    </tr>\n",
       "    <tr>\n",
       "      <th>3</th>\n",
       "      <td>50.0</td>\n",
       "      <td>00000</td>\n",
       "    </tr>\n",
       "    <tr>\n",
       "      <th>4</th>\n",
       "      <td>100.0</td>\n",
       "      <td>00000</td>\n",
       "    </tr>\n",
       "  </tbody>\n",
       "</table>\n",
       "</div>"
      ],
      "text/plain": [
       "  Biweekly High Rate  Grade\n",
       "0                0.0  00000\n",
       "1               15.0  00000\n",
       "2               25.0  00000\n",
       "3               50.0  00000\n",
       "4              100.0  00000"
      ]
     },
     "execution_count": 15,
     "metadata": {},
     "output_type": "execute_result"
    }
   ],
   "source": [
    "# Check to see the '$' has been removed\n",
    "salary_ranges.head()"
   ]
  },
  {
   "cell_type": "code",
   "execution_count": 16,
   "metadata": {
    "scrolled": true
   },
   "outputs": [],
   "source": [
    "# Convert the Biweeky columns to float\n",
    "salary_ranges['Biweekly High Rate'] = salary_ranges['Biweekly High Rate'].astype(float)"
   ]
  },
  {
   "cell_type": "code",
   "execution_count": 17,
   "metadata": {},
   "outputs": [],
   "source": [
    "# Convert the Grade columns to str\n",
    "salary_ranges['Grade'] = salary_ranges['Grade'].astype(str)"
   ]
  },
  {
   "cell_type": "code",
   "execution_count": 18,
   "metadata": {},
   "outputs": [
    {
     "name": "stdout",
     "output_type": "stream",
     "text": [
      "<class 'pandas.core.frame.DataFrame'>\n",
      "RangeIndex: 1356 entries, 0 to 1355\n",
      "Data columns (total 2 columns):\n",
      "Biweekly High Rate    1356 non-null float64\n",
      "Grade                 1356 non-null object\n",
      "dtypes: float64(1), object(1)\n",
      "memory usage: 21.3+ KB\n"
     ]
    }
   ],
   "source": [
    "# check to see if converting the data types worked\n",
    "salary_ranges.info()"
   ]
  },
  {
   "cell_type": "code",
   "execution_count": 19,
   "metadata": {},
   "outputs": [
    {
     "data": {
      "text/html": [
       "<div>\n",
       "<style scoped>\n",
       "    .dataframe tbody tr th:only-of-type {\n",
       "        vertical-align: middle;\n",
       "    }\n",
       "\n",
       "    .dataframe tbody tr th {\n",
       "        vertical-align: top;\n",
       "    }\n",
       "\n",
       "    .dataframe thead th {\n",
       "        text-align: right;\n",
       "    }\n",
       "</style>\n",
       "<table border=\"1\" class=\"dataframe\">\n",
       "  <thead>\n",
       "    <tr style=\"text-align: right;\">\n",
       "      <th></th>\n",
       "      <th>Biweekly High Rate</th>\n",
       "    </tr>\n",
       "  </thead>\n",
       "  <tbody>\n",
       "    <tr>\n",
       "      <th>count</th>\n",
       "      <td>1356.000000</td>\n",
       "    </tr>\n",
       "    <tr>\n",
       "      <th>mean</th>\n",
       "      <td>3161.727021</td>\n",
       "    </tr>\n",
       "    <tr>\n",
       "      <th>std</th>\n",
       "      <td>1481.002904</td>\n",
       "    </tr>\n",
       "    <tr>\n",
       "      <th>min</th>\n",
       "      <td>0.000000</td>\n",
       "    </tr>\n",
       "    <tr>\n",
       "      <th>25%</th>\n",
       "      <td>2145.000000</td>\n",
       "    </tr>\n",
       "    <tr>\n",
       "      <th>50%</th>\n",
       "      <td>2856.500000</td>\n",
       "    </tr>\n",
       "    <tr>\n",
       "      <th>75%</th>\n",
       "      <td>3703.000000</td>\n",
       "    </tr>\n",
       "    <tr>\n",
       "      <th>max</th>\n",
       "      <td>12120.770000</td>\n",
       "    </tr>\n",
       "  </tbody>\n",
       "</table>\n",
       "</div>"
      ],
      "text/plain": [
       "       Biweekly High Rate\n",
       "count         1356.000000\n",
       "mean          3161.727021\n",
       "std           1481.002904\n",
       "min              0.000000\n",
       "25%           2145.000000\n",
       "50%           2856.500000\n",
       "75%           3703.000000\n",
       "max          12120.770000"
      ]
     },
     "execution_count": 19,
     "metadata": {},
     "output_type": "execute_result"
    }
   ],
   "source": [
    "salary_ranges.describe()"
   ]
  },
  {
   "cell_type": "code",
   "execution_count": 20,
   "metadata": {},
   "outputs": [],
   "source": [
    "# Which Grade has the highest Biweekly high rate\n",
    "# What is the average rate across all of the Grades"
   ]
  },
  {
   "cell_type": "code",
   "execution_count": 21,
   "metadata": {},
   "outputs": [
    {
     "ename": "NameError",
     "evalue": "name 'ax' is not defined",
     "output_type": "error",
     "traceback": [
      "\u001b[1;31m---------------------------------------------------------------------------\u001b[0m",
      "\u001b[1;31mNameError\u001b[0m                                 Traceback (most recent call last)",
      "\u001b[1;32m<ipython-input-21-ad4d8ce11456>\u001b[0m in \u001b[0;36m<module>\u001b[1;34m\u001b[0m\n\u001b[0;32m      1\u001b[0m \u001b[1;31m# Highest Salary\u001b[0m\u001b[1;33m\u001b[0m\u001b[1;33m\u001b[0m\u001b[1;33m\u001b[0m\u001b[0m\n\u001b[0;32m      2\u001b[0m salary_ranges.groupby('Grade')[['Biweekly High Rate']].mean().sort_values(\n\u001b[1;32m----> 3\u001b[1;33m     'Biweekly High Rate', ascending=False).head(20).plot.bar(stacked=False, ax=ax, color='darkorange')\n\u001b[0m\u001b[0;32m      4\u001b[0m \u001b[0max\u001b[0m\u001b[1;33m.\u001b[0m\u001b[0mset_title\u001b[0m\u001b[1;33m(\u001b[0m\u001b[1;34m'Top 20 Grade by Mean Biweekly High Rate'\u001b[0m\u001b[1;33m)\u001b[0m\u001b[1;33m\u001b[0m\u001b[1;33m\u001b[0m\u001b[0m\n",
      "\u001b[1;31mNameError\u001b[0m: name 'ax' is not defined"
     ]
    }
   ],
   "source": [
    "# Highest Salary\n",
    "salary_ranges.groupby('Grade')[['Biweekly High Rate']].mean().sort_values(\n",
    "    'Biweekly High Rate', ascending=False).head(20).plot.bar(stacked=False, ax=ax, color='darkorange')\n",
    "ax.set_title('Top 20 Grade by Mean Biweekly High Rate')"
   ]
  },
  {
   "cell_type": "code",
   "execution_count": null,
   "metadata": {
    "scrolled": false
   },
   "outputs": [],
   "source": [
    "# Which Grade has the highest Biweekly high rate\n",
    "# What is the average rate across all of the Grades\n",
    "\n",
    "fig = plt.figure(figsize=(15,5))\n",
    "ax = fig.gca()\n",
    "\n",
    "salary_ranges.groupby('Grade')[['Biweekly High Rate']].mean().sort_values(\n",
    "    'Biweekly High Rate', ascending=False).head(20).plot.bar(stacked=False, ax=ax, color='darkorange')\n",
    "ax.set_title('Top 20 Grade by Mean Biweekly High Rate')"
   ]
  },
  {
   "cell_type": "code",
   "execution_count": null,
   "metadata": {},
   "outputs": [],
   "source": []
  },
  {
   "cell_type": "code",
   "execution_count": null,
   "metadata": {},
   "outputs": [],
   "source": [
    "# Which Grade has the lowest Biweekly high rate\n",
    "\n",
    "fig = plt.figure(figsize=(15,5))\n",
    "ax = fig.gca()\n",
    "\n",
    "salary_ranges.groupby('Grade')[['Biweekly High Rate']].mean().sort_values(\n",
    "    'Biweekly High Rate', ascending=False).tail(20).plot.bar(stacked=False, ax=ax, color='darkorange')\n",
    "ax.set_title('Bottom 20 Grade by Mean Biweekly High Rate')"
   ]
  },
  {
   "cell_type": "code",
   "execution_count": null,
   "metadata": {},
   "outputs": [],
   "source": [
    "sorted_df = salary_ranges.groupby('Grade')[['Biweekly High Rate']].mean().sort_values(\n",
    "    'Biweekly High Rate', ascending=False)\n",
    "sorted_df.iloc[0][0] / sorted_df.iloc[-1][0]"
   ]
  },
  {
   "cell_type": "code",
   "execution_count": null,
   "metadata": {},
   "outputs": [],
   "source": []
  },
  {
   "cell_type": "markdown",
   "metadata": {
    "collapsed": true
   },
   "source": [
    "# Further plotting: \n",
    "\n",
    "Only using Biweekly High rate since they are the same as Low rate"
   ]
  },
  {
   "cell_type": "markdown",
   "metadata": {},
   "source": [
    "# SFO Customer Survey Dataset:"
   ]
  },
  {
   "cell_type": "code",
   "execution_count": 26,
   "metadata": {},
   "outputs": [],
   "source": [
    "# load in the data set\n",
    "customer = pd.read_csv('../chapter03/2013_SFO_Customer_survey.csv')"
   ]
  },
  {
   "cell_type": "code",
   "execution_count": 27,
   "metadata": {},
   "outputs": [
    {
     "name": "stdout",
     "output_type": "stream",
     "text": [
      "<class 'pandas.core.frame.DataFrame'>\n",
      "RangeIndex: 3535 entries, 0 to 3534\n",
      "Data columns (total 95 columns):\n",
      "RESPNUM            3535 non-null int64\n",
      "CCGID              3535 non-null object\n",
      "RUN                3535 non-null int64\n",
      "INTDATE            3535 non-null int64\n",
      "GATE               3535 non-null int64\n",
      "STRATA             3535 non-null int64\n",
      "PEAK               3535 non-null int64\n",
      "METHOD             3535 non-null int64\n",
      "AIRLINE            3535 non-null int64\n",
      "FLIGHT             3535 non-null int64\n",
      "DEST               3535 non-null int64\n",
      "DESTGEO            3535 non-null int64\n",
      "DESTMARK           3535 non-null int64\n",
      "ARRTIME            3535 non-null object\n",
      "DEPTIME            3535 non-null object\n",
      "Q2PURP1            3535 non-null int64\n",
      "Q2PURP2            3459 non-null float64\n",
      "Q2PURP3            163 non-null float64\n",
      "Q2PURP4            17 non-null float64\n",
      "Q2PURP5            2 non-null float64\n",
      "Q2PURP6            0 non-null float64\n",
      "Q3GETTO1           3535 non-null int64\n",
      "Q3GETTO2           3505 non-null float64\n",
      "Q3GETTO3           17 non-null float64\n",
      "Q3GETTO4           1 non-null float64\n",
      "Q3GETTO5           0 non-null float64\n",
      "Q3GETTO6           0 non-null float64\n",
      "Q3PARK             284 non-null float64\n",
      "Q4BAGS             3535 non-null int64\n",
      "Q4BUY              3535 non-null int64\n",
      "Q4FOOD             3535 non-null int64\n",
      "Q4WIFI             3535 non-null int64\n",
      "Q5FLYPERYR         3535 non-null int64\n",
      "Q6TENURE           3535 non-null float64\n",
      "SAQ                3535 non-null int64\n",
      "Q7A_ART            3535 non-null int64\n",
      "Q7B_FOOD           3535 non-null int64\n",
      "Q7C_SHOPS          3535 non-null int64\n",
      "Q7D_SIGNS          3535 non-null int64\n",
      "Q7E_WALK           3535 non-null int64\n",
      "Q7F_SCREENS        3535 non-null int64\n",
      "Q7G_INFOARR        3535 non-null int64\n",
      "Q7H_INFODEP        3535 non-null int64\n",
      "Q7I_WIFI           3535 non-null int64\n",
      "Q7J_ROAD           3535 non-null int64\n",
      "Q7K_PARK           3535 non-null int64\n",
      "Q7L_AIRTRAIN       3535 non-null int64\n",
      "Q7M_LTPARK         3535 non-null int64\n",
      "Q7N_RENTAL         3535 non-null int64\n",
      "Q7O_WHOLE          3535 non-null int64\n",
      "Q8COM1             1495 non-null float64\n",
      "Q8COM2             308 non-null float64\n",
      "Q8COM3             59 non-null float64\n",
      "Q9A_CLNBOARD       3535 non-null int64\n",
      "Q9B_CLNAIRTRAIN    3535 non-null int64\n",
      "Q9C_CLNRENT        3535 non-null int64\n",
      "Q9D_CLNFOOD        3535 non-null int64\n",
      "Q9E_CLNBATH        3535 non-null int64\n",
      "Q9F_CLNWHOLE       3535 non-null int64\n",
      "Q9COM1             180 non-null float64\n",
      "Q9COM2             4 non-null float64\n",
      "Q9COM3             4 non-null float64\n",
      "Q10SAFE            3535 non-null int64\n",
      "Q10COM1            1683 non-null float64\n",
      "Q10COM2            221 non-null float64\n",
      "Q10COM3            14 non-null float64\n",
      "Q11A_USEWEB        3535 non-null int64\n",
      "Q11B_USESFOAPP     3535 non-null int64\n",
      "Q11C_USEOTHAPP     3535 non-null int64\n",
      "Q11D_USESOCMED     3535 non-null int64\n",
      "Q11E_USEWIFI       3535 non-null int64\n",
      "Q12COM1            706 non-null float64\n",
      "Q12COM2            75 non-null float64\n",
      "Q12COM3            2 non-null float64\n",
      "Q13_WHEREDEPART    3535 non-null int64\n",
      "Q13_RATEGETTO      3535 non-null int64\n",
      "Q14A_FIND          3535 non-null int64\n",
      "Q14B_SECURITY      3535 non-null int64\n",
      "Q15_PROBLEMS       3535 non-null int64\n",
      "Q15COM1            389 non-null float64\n",
      "Q15COM2            21 non-null float64\n",
      "Q15COM3            1 non-null float64\n",
      "Q16_REGION         3535 non-null int64\n",
      "Q17_CITY           3234 non-null object\n",
      "Q17_ZIP            2276 non-null float64\n",
      "Q17_COUNTRY        3410 non-null object\n",
      "HOME               3535 non-null int64\n",
      "Q18_AGE            3535 non-null int64\n",
      "Q19_SEX            3535 non-null int64\n",
      "Q20_INCOME         3535 non-null int64\n",
      "Q21_HIFLYER        3535 non-null int64\n",
      "Q22A_USESJC        3535 non-null int64\n",
      "Q22B_USEOAK        3535 non-null int64\n",
      "LANG               3535 non-null int64\n",
      "WEIGHT             3535 non-null float64\n",
      "dtypes: float64(29), int64(61), object(5)\n",
      "memory usage: 2.6+ MB\n"
     ]
    }
   ],
   "source": [
    "customer.info()"
   ]
  },
  {
   "cell_type": "code",
   "execution_count": 28,
   "metadata": {},
   "outputs": [
    {
     "data": {
      "text/plain": [
       "(3535, 95)"
      ]
     },
     "execution_count": 28,
     "metadata": {},
     "output_type": "execute_result"
    }
   ],
   "source": [
    "customer.shape"
   ]
  },
  {
   "cell_type": "code",
   "execution_count": 29,
   "metadata": {},
   "outputs": [],
   "source": [
    "art_ratings = customer['Q7A_ART']"
   ]
  },
  {
   "cell_type": "code",
   "execution_count": 30,
   "metadata": {},
   "outputs": [
    {
     "data": {
      "text/plain": [
       "count    3535.000000\n",
       "mean        4.300707\n",
       "std         1.341445\n",
       "min         0.000000\n",
       "25%         3.000000\n",
       "50%         4.000000\n",
       "75%         5.000000\n",
       "max         6.000000\n",
       "Name: Q7A_ART, dtype: float64"
      ]
     },
     "execution_count": 30,
     "metadata": {},
     "output_type": "execute_result"
    }
   ],
   "source": [
    "art_ratings.describe()  # it considers the ratings numerical, so let's cast them as a string because we know that they are ordinal"
   ]
  },
  {
   "cell_type": "code",
   "execution_count": 31,
   "metadata": {},
   "outputs": [],
   "source": [
    "# only consider ratings 1-5\n",
    "art_ratings = art_ratings[(art_ratings >=1) & (art_ratings <=5)]"
   ]
  },
  {
   "cell_type": "code",
   "execution_count": 32,
   "metadata": {},
   "outputs": [],
   "source": [
    "# cast the values as strings\n",
    "art_ratings = art_ratings.astype(str)"
   ]
  },
  {
   "cell_type": "code",
   "execution_count": 33,
   "metadata": {},
   "outputs": [
    {
     "data": {
      "text/plain": [
       "count     2656\n",
       "unique       5\n",
       "top          4\n",
       "freq      1066\n",
       "Name: Q7A_ART, dtype: object"
      ]
     },
     "execution_count": 33,
     "metadata": {},
     "output_type": "execute_result"
    }
   ],
   "source": [
    "art_ratings.describe()"
   ]
  },
  {
   "cell_type": "code",
   "execution_count": 34,
   "metadata": {},
   "outputs": [
    {
     "data": {
      "text/plain": [
       "<matplotlib.axes._subplots.AxesSubplot at 0x21e0b457cc0>"
      ]
     },
     "execution_count": 34,
     "metadata": {},
     "output_type": "execute_result"
    },
    {
     "data": {
      "image/png": "[encoded data removed]",
      "text/plain": [
       "<Figure size 432x288 with 1 Axes>"
      ]
     },
     "metadata": {},
     "output_type": "display_data"
    }
   ],
   "source": [
    "# Can use pie charts, just like in nominal level\n",
    "art_ratings.value_counts().plot(kind='pie')"
   ]
  },
  {
   "cell_type": "code",
   "execution_count": 35,
   "metadata": {},
   "outputs": [
    {
     "data": {
      "text/plain": [
       "<matplotlib.axes._subplots.AxesSubplot at 0x21e0b37c9e8>"
      ]
     },
     "execution_count": 35,
     "metadata": {},
     "output_type": "execute_result"
    },
    {
     "data": {
      "image/png": "[encoded data removed]",
      "text/plain": [
       "<Figure size 432x288 with 1 Axes>"
      ]
     },
     "metadata": {
      "needs_background": "light"
     },
     "output_type": "display_data"
    }
   ],
   "source": [
    "# Can use bar charts, just like in nominal level\n",
    "art_ratings.value_counts().plot(kind='bar')"
   ]
  },
  {
   "cell_type": "code",
   "execution_count": 36,
   "metadata": {},
   "outputs": [
    {
     "data": {
      "text/plain": [
       "<matplotlib.axes._subplots.AxesSubplot at 0x21e0b3b5da0>"
      ]
     },
     "execution_count": 36,
     "metadata": {},
     "output_type": "execute_result"
    },
    {
     "data": {
      "image/png": "[encoded data removed]",
      "text/plain": [
       "<Figure size 432x288 with 1 Axes>"
      ]
     },
     "metadata": {
      "needs_background": "light"
     },
     "output_type": "display_data"
    }
   ],
   "source": [
    "# Boxplots are available at the ordinal level\n",
    "art_ratings.value_counts().plot(kind='box')"
   ]
  },
  {
   "cell_type": "code",
   "execution_count": null,
   "metadata": {},
   "outputs": [],
   "source": []
  },
  {
   "cell_type": "code",
   "execution_count": null,
   "metadata": {},
   "outputs": [],
   "source": []
  },
  {
   "cell_type": "code",
   "execution_count": null,
   "metadata": {},
   "outputs": [],
   "source": []
  },
  {
   "cell_type": "code",
   "execution_count": null,
   "metadata": {},
   "outputs": [],
   "source": []
  },
  {
   "cell_type": "code",
   "execution_count": null,
   "metadata": {},
   "outputs": [],
   "source": []
  },
  {
   "cell_type": "code",
   "execution_count": null,
   "metadata": {},
   "outputs": [],
   "source": []
  },
  {
   "cell_type": "code",
   "execution_count": null,
   "metadata": {},
   "outputs": [],
   "source": []
  },
  {
   "cell_type": "code",
   "execution_count": 37,
   "metadata": {
    "scrolled": false
   },
   "outputs": [
    {
     "name": "stdout",
     "output_type": "stream",
     "text": [
      "<class 'pandas.core.frame.DataFrame'>\n",
      "RangeIndex: 3535 entries, 0 to 3534\n",
      "Data columns (total 95 columns):\n",
      "RESPNUM            3535 non-null int64\n",
      "CCGID              3535 non-null object\n",
      "RUN                3535 non-null int64\n",
      "INTDATE            3535 non-null int64\n",
      "GATE               3535 non-null int64\n",
      "STRATA             3535 non-null int64\n",
      "PEAK               3535 non-null int64\n",
      "METHOD             3535 non-null int64\n",
      "AIRLINE            3535 non-null int64\n",
      "FLIGHT             3535 non-null int64\n",
      "DEST               3535 non-null int64\n",
      "DESTGEO            3535 non-null int64\n",
      "DESTMARK           3535 non-null int64\n",
      "ARRTIME            3535 non-null object\n",
      "DEPTIME            3535 non-null object\n",
      "Q2PURP1            3535 non-null int64\n",
      "Q2PURP2            3459 non-null float64\n",
      "Q2PURP3            163 non-null float64\n",
      "Q2PURP4            17 non-null float64\n",
      "Q2PURP5            2 non-null float64\n",
      "Q2PURP6            0 non-null float64\n",
      "Q3GETTO1           3535 non-null int64\n",
      "Q3GETTO2           3505 non-null float64\n",
      "Q3GETTO3           17 non-null float64\n",
      "Q3GETTO4           1 non-null float64\n",
      "Q3GETTO5           0 non-null float64\n",
      "Q3GETTO6           0 non-null float64\n",
      "Q3PARK             284 non-null float64\n",
      "Q4BAGS             3535 non-null int64\n",
      "Q4BUY              3535 non-null int64\n",
      "Q4FOOD             3535 non-null int64\n",
      "Q4WIFI             3535 non-null int64\n",
      "Q5FLYPERYR         3535 non-null int64\n",
      "Q6TENURE           3535 non-null float64\n",
      "SAQ                3535 non-null int64\n",
      "Q7A_ART            3535 non-null int64\n",
      "Q7B_FOOD           3535 non-null int64\n",
      "Q7C_SHOPS          3535 non-null int64\n",
      "Q7D_SIGNS          3535 non-null int64\n",
      "Q7E_WALK           3535 non-null int64\n",
      "Q7F_SCREENS        3535 non-null int64\n",
      "Q7G_INFOARR        3535 non-null int64\n",
      "Q7H_INFODEP        3535 non-null int64\n",
      "Q7I_WIFI           3535 non-null int64\n",
      "Q7J_ROAD           3535 non-null int64\n",
      "Q7K_PARK           3535 non-null int64\n",
      "Q7L_AIRTRAIN       3535 non-null int64\n",
      "Q7M_LTPARK         3535 non-null int64\n",
      "Q7N_RENTAL         3535 non-null int64\n",
      "Q7O_WHOLE          3535 non-null int64\n",
      "Q8COM1             1495 non-null float64\n",
      "Q8COM2             308 non-null float64\n",
      "Q8COM3             59 non-null float64\n",
      "Q9A_CLNBOARD       3535 non-null int64\n",
      "Q9B_CLNAIRTRAIN    3535 non-null int64\n",
      "Q9C_CLNRENT        3535 non-null int64\n",
      "Q9D_CLNFOOD        3535 non-null int64\n",
      "Q9E_CLNBATH        3535 non-null int64\n",
      "Q9F_CLNWHOLE       3535 non-null int64\n",
      "Q9COM1             180 non-null float64\n",
      "Q9COM2             4 non-null float64\n",
      "Q9COM3             4 non-null float64\n",
      "Q10SAFE            3535 non-null int64\n",
      "Q10COM1            1683 non-null float64\n",
      "Q10COM2            221 non-null float64\n",
      "Q10COM3            14 non-null float64\n",
      "Q11A_USEWEB        3535 non-null int64\n",
      "Q11B_USESFOAPP     3535 non-null int64\n",
      "Q11C_USEOTHAPP     3535 non-null int64\n",
      "Q11D_USESOCMED     3535 non-null int64\n",
      "Q11E_USEWIFI       3535 non-null int64\n",
      "Q12COM1            706 non-null float64\n",
      "Q12COM2            75 non-null float64\n",
      "Q12COM3            2 non-null float64\n",
      "Q13_WHEREDEPART    3535 non-null int64\n",
      "Q13_RATEGETTO      3535 non-null int64\n",
      "Q14A_FIND          3535 non-null int64\n",
      "Q14B_SECURITY      3535 non-null int64\n",
      "Q15_PROBLEMS       3535 non-null int64\n",
      "Q15COM1            389 non-null float64\n",
      "Q15COM2            21 non-null float64\n",
      "Q15COM3            1 non-null float64\n",
      "Q16_REGION         3535 non-null int64\n",
      "Q17_CITY           3234 non-null object\n",
      "Q17_ZIP            2276 non-null float64\n",
      "Q17_COUNTRY        3410 non-null object\n",
      "HOME               3535 non-null int64\n",
      "Q18_AGE            3535 non-null int64\n",
      "Q19_SEX            3535 non-null int64\n",
      "Q20_INCOME         3535 non-null int64\n",
      "Q21_HIFLYER        3535 non-null int64\n",
      "Q22A_USESJC        3535 non-null int64\n",
      "Q22B_USEOAK        3535 non-null int64\n",
      "LANG               3535 non-null int64\n",
      "WEIGHT             3535 non-null float64\n",
      "dtypes: float64(29), int64(61), object(5)\n",
      "memory usage: 2.6+ MB\n"
     ]
    }
   ],
   "source": [
    "customer.info()"
   ]
  },
  {
   "cell_type": "code",
   "execution_count": 38,
   "metadata": {
    "scrolled": false
   },
   "outputs": [
    {
     "data": {
      "text/plain": [
       "RESPNUM        0\n",
       "CCGID          0\n",
       "RUN            0\n",
       "INTDATE        0\n",
       "GATE           0\n",
       "              ..\n",
       "Q21_HIFLYER    0\n",
       "Q22A_USESJC    0\n",
       "Q22B_USEOAK    0\n",
       "LANG           0\n",
       "WEIGHT         0\n",
       "Length: 95, dtype: int64"
      ]
     },
     "execution_count": 38,
     "metadata": {},
     "output_type": "execute_result"
    }
   ],
   "source": [
    "customer.isnull().sum()"
   ]
  },
  {
   "cell_type": "code",
   "execution_count": 39,
   "metadata": {},
   "outputs": [
    {
     "data": {
      "text/plain": [
       "<matplotlib.axes._subplots.AxesSubplot at 0x21e0b65ec18>"
      ]
     },
     "execution_count": 39,
     "metadata": {},
     "output_type": "execute_result"
    },
    {
     "data": {
      "image/png": "[encoded data removed]",
      "text/plain": [
       "<Figure size 432x288 with 2 Axes>"
      ]
     },
     "metadata": {
      "needs_background": "light"
     },
     "output_type": "display_data"
    }
   ],
   "source": [
    "sns.heatmap(customer.corr())"
   ]
  },
  {
   "cell_type": "code",
   "execution_count": 40,
   "metadata": {},
   "outputs": [],
   "source": [
    "# we see that there are quite a few null values, so let's discuss methods for handling missing data\n",
    "# other methods to handle missing data, (called imputing): \n",
    "# using the mean of the column for the missing values,\n",
    "# utilizing machine learning methods to fill in the data"
   ]
  },
  {
   "cell_type": "code",
   "execution_count": 41,
   "metadata": {},
   "outputs": [],
   "source": [
    "# here we will remove the columns that contain those missing values for now\n",
    "customer.dropna(axis=1, inplace=True)"
   ]
  },
  {
   "cell_type": "code",
   "execution_count": 42,
   "metadata": {
    "scrolled": true
   },
   "outputs": [
    {
     "data": {
      "text/plain": [
       "RESPNUM        0\n",
       "CCGID          0\n",
       "RUN            0\n",
       "INTDATE        0\n",
       "GATE           0\n",
       "              ..\n",
       "Q21_HIFLYER    0\n",
       "Q22A_USESJC    0\n",
       "Q22B_USEOAK    0\n",
       "LANG           0\n",
       "WEIGHT         0\n",
       "Length: 66, dtype: int64"
      ]
     },
     "execution_count": 42,
     "metadata": {},
     "output_type": "execute_result"
    }
   ],
   "source": [
    "customer.isnull().sum()"
   ]
  },
  {
   "cell_type": "code",
   "execution_count": 43,
   "metadata": {
    "scrolled": true
   },
   "outputs": [
    {
     "name": "stdout",
     "output_type": "stream",
     "text": [
      "<class 'pandas.core.frame.DataFrame'>\n",
      "RangeIndex: 3535 entries, 0 to 3534\n",
      "Data columns (total 66 columns):\n",
      "RESPNUM            3535 non-null int64\n",
      "CCGID              3535 non-null object\n",
      "RUN                3535 non-null int64\n",
      "INTDATE            3535 non-null int64\n",
      "GATE               3535 non-null int64\n",
      "STRATA             3535 non-null int64\n",
      "PEAK               3535 non-null int64\n",
      "METHOD             3535 non-null int64\n",
      "AIRLINE            3535 non-null int64\n",
      "FLIGHT             3535 non-null int64\n",
      "DEST               3535 non-null int64\n",
      "DESTGEO            3535 non-null int64\n",
      "DESTMARK           3535 non-null int64\n",
      "ARRTIME            3535 non-null object\n",
      "DEPTIME            3535 non-null object\n",
      "Q2PURP1            3535 non-null int64\n",
      "Q3GETTO1           3535 non-null int64\n",
      "Q4BAGS             3535 non-null int64\n",
      "Q4BUY              3535 non-null int64\n",
      "Q4FOOD             3535 non-null int64\n",
      "Q4WIFI             3535 non-null int64\n",
      "Q5FLYPERYR         3535 non-null int64\n",
      "Q6TENURE           3535 non-null float64\n",
      "SAQ                3535 non-null int64\n",
      "Q7A_ART            3535 non-null int64\n",
      "Q7B_FOOD           3535 non-null int64\n",
      "Q7C_SHOPS          3535 non-null int64\n",
      "Q7D_SIGNS          3535 non-null int64\n",
      "Q7E_WALK           3535 non-null int64\n",
      "Q7F_SCREENS        3535 non-null int64\n",
      "Q7G_INFOARR        3535 non-null int64\n",
      "Q7H_INFODEP        3535 non-null int64\n",
      "Q7I_WIFI           3535 non-null int64\n",
      "Q7J_ROAD           3535 non-null int64\n",
      "Q7K_PARK           3535 non-null int64\n",
      "Q7L_AIRTRAIN       3535 non-null int64\n",
      "Q7M_LTPARK         3535 non-null int64\n",
      "Q7N_RENTAL         3535 non-null int64\n",
      "Q7O_WHOLE          3535 non-null int64\n",
      "Q9A_CLNBOARD       3535 non-null int64\n",
      "Q9B_CLNAIRTRAIN    3535 non-null int64\n",
      "Q9C_CLNRENT        3535 non-null int64\n",
      "Q9D_CLNFOOD        3535 non-null int64\n",
      "Q9E_CLNBATH        3535 non-null int64\n",
      "Q9F_CLNWHOLE       3535 non-null int64\n",
      "Q10SAFE            3535 non-null int64\n",
      "Q11A_USEWEB        3535 non-null int64\n",
      "Q11B_USESFOAPP     3535 non-null int64\n",
      "Q11C_USEOTHAPP     3535 non-null int64\n",
      "Q11D_USESOCMED     3535 non-null int64\n",
      "Q11E_USEWIFI       3535 non-null int64\n",
      "Q13_WHEREDEPART    3535 non-null int64\n",
      "Q13_RATEGETTO      3535 non-null int64\n",
      "Q14A_FIND          3535 non-null int64\n",
      "Q14B_SECURITY      3535 non-null int64\n",
      "Q15_PROBLEMS       3535 non-null int64\n",
      "Q16_REGION         3535 non-null int64\n",
      "HOME               3535 non-null int64\n",
      "Q18_AGE            3535 non-null int64\n",
      "Q19_SEX            3535 non-null int64\n",
      "Q20_INCOME         3535 non-null int64\n",
      "Q21_HIFLYER        3535 non-null int64\n",
      "Q22A_USESJC        3535 non-null int64\n",
      "Q22B_USEOAK        3535 non-null int64\n",
      "LANG               3535 non-null int64\n",
      "WEIGHT             3535 non-null float64\n",
      "dtypes: float64(2), int64(61), object(3)\n",
      "memory usage: 1.8+ MB\n"
     ]
    }
   ],
   "source": [
    "# Columns with null values got dropped (went from 95 columns to 66)\n",
    "customer.info()"
   ]
  },
  {
   "cell_type": "code",
   "execution_count": 44,
   "metadata": {},
   "outputs": [
    {
     "data": {
      "text/html": [
       "<div>\n",
       "<style scoped>\n",
       "    .dataframe tbody tr th:only-of-type {\n",
       "        vertical-align: middle;\n",
       "    }\n",
       "\n",
       "    .dataframe tbody tr th {\n",
       "        vertical-align: top;\n",
       "    }\n",
       "\n",
       "    .dataframe thead th {\n",
       "        text-align: right;\n",
       "    }\n",
       "</style>\n",
       "<table border=\"1\" class=\"dataframe\">\n",
       "  <thead>\n",
       "    <tr style=\"text-align: right;\">\n",
       "      <th></th>\n",
       "      <th>count</th>\n",
       "      <th>mean</th>\n",
       "      <th>std</th>\n",
       "      <th>min</th>\n",
       "      <th>25%</th>\n",
       "      <th>50%</th>\n",
       "      <th>75%</th>\n",
       "      <th>max</th>\n",
       "    </tr>\n",
       "  </thead>\n",
       "  <tbody>\n",
       "    <tr>\n",
       "      <th>RESPNUM</th>\n",
       "      <td>3535.0</td>\n",
       "      <td>2119.889392</td>\n",
       "      <td>1385.474407</td>\n",
       "      <td>1.000000</td>\n",
       "      <td>886.500000</td>\n",
       "      <td>2137.000000</td>\n",
       "      <td>3168.500000</td>\n",
       "      <td>9995.000000</td>\n",
       "    </tr>\n",
       "    <tr>\n",
       "      <th>RUN</th>\n",
       "      <td>3535.0</td>\n",
       "      <td>1960.375389</td>\n",
       "      <td>458.893056</td>\n",
       "      <td>1201.000000</td>\n",
       "      <td>1605.500000</td>\n",
       "      <td>1918.000000</td>\n",
       "      <td>2403.000000</td>\n",
       "      <td>2806.000000</td>\n",
       "    </tr>\n",
       "    <tr>\n",
       "      <th>INTDATE</th>\n",
       "      <td>3535.0</td>\n",
       "      <td>9.431966</td>\n",
       "      <td>4.561762</td>\n",
       "      <td>2.000000</td>\n",
       "      <td>6.000000</td>\n",
       "      <td>9.000000</td>\n",
       "      <td>14.000000</td>\n",
       "      <td>18.000000</td>\n",
       "    </tr>\n",
       "    <tr>\n",
       "      <th>GATE</th>\n",
       "      <td>3535.0</td>\n",
       "      <td>52.635078</td>\n",
       "      <td>34.075357</td>\n",
       "      <td>1.000000</td>\n",
       "      <td>21.000000</td>\n",
       "      <td>52.000000</td>\n",
       "      <td>87.000000</td>\n",
       "      <td>102.000000</td>\n",
       "    </tr>\n",
       "    <tr>\n",
       "      <th>STRATA</th>\n",
       "      <td>3535.0</td>\n",
       "      <td>1.977652</td>\n",
       "      <td>0.778393</td>\n",
       "      <td>1.000000</td>\n",
       "      <td>1.000000</td>\n",
       "      <td>2.000000</td>\n",
       "      <td>3.000000</td>\n",
       "      <td>3.000000</td>\n",
       "    </tr>\n",
       "    <tr>\n",
       "      <th>...</th>\n",
       "      <td>...</td>\n",
       "      <td>...</td>\n",
       "      <td>...</td>\n",
       "      <td>...</td>\n",
       "      <td>...</td>\n",
       "      <td>...</td>\n",
       "      <td>...</td>\n",
       "      <td>...</td>\n",
       "    </tr>\n",
       "    <tr>\n",
       "      <th>Q21_HIFLYER</th>\n",
       "      <td>3535.0</td>\n",
       "      <td>1.837058</td>\n",
       "      <td>0.596193</td>\n",
       "      <td>0.000000</td>\n",
       "      <td>2.000000</td>\n",
       "      <td>2.000000</td>\n",
       "      <td>2.000000</td>\n",
       "      <td>4.000000</td>\n",
       "    </tr>\n",
       "    <tr>\n",
       "      <th>Q22A_USESJC</th>\n",
       "      <td>3535.0</td>\n",
       "      <td>1.718812</td>\n",
       "      <td>0.584292</td>\n",
       "      <td>0.000000</td>\n",
       "      <td>2.000000</td>\n",
       "      <td>2.000000</td>\n",
       "      <td>2.000000</td>\n",
       "      <td>4.000000</td>\n",
       "    </tr>\n",
       "    <tr>\n",
       "      <th>Q22B_USEOAK</th>\n",
       "      <td>3535.0</td>\n",
       "      <td>1.663932</td>\n",
       "      <td>0.612257</td>\n",
       "      <td>0.000000</td>\n",
       "      <td>1.000000</td>\n",
       "      <td>2.000000</td>\n",
       "      <td>2.000000</td>\n",
       "      <td>4.000000</td>\n",
       "    </tr>\n",
       "    <tr>\n",
       "      <th>LANG</th>\n",
       "      <td>3535.0</td>\n",
       "      <td>1.159264</td>\n",
       "      <td>0.628356</td>\n",
       "      <td>1.000000</td>\n",
       "      <td>1.000000</td>\n",
       "      <td>1.000000</td>\n",
       "      <td>1.000000</td>\n",
       "      <td>4.000000</td>\n",
       "    </tr>\n",
       "    <tr>\n",
       "      <th>WEIGHT</th>\n",
       "      <td>3535.0</td>\n",
       "      <td>0.999973</td>\n",
       "      <td>0.481986</td>\n",
       "      <td>0.553675</td>\n",
       "      <td>0.595689</td>\n",
       "      <td>0.892167</td>\n",
       "      <td>1.266708</td>\n",
       "      <td>1.870831</td>\n",
       "    </tr>\n",
       "  </tbody>\n",
       "</table>\n",
       "<p>63 rows × 8 columns</p>\n",
       "</div>"
      ],
      "text/plain": [
       "              count         mean          std          min          25%  \\\n",
       "RESPNUM      3535.0  2119.889392  1385.474407     1.000000   886.500000   \n",
       "RUN          3535.0  1960.375389   458.893056  1201.000000  1605.500000   \n",
       "INTDATE      3535.0     9.431966     4.561762     2.000000     6.000000   \n",
       "GATE         3535.0    52.635078    34.075357     1.000000    21.000000   \n",
       "STRATA       3535.0     1.977652     0.778393     1.000000     1.000000   \n",
       "...             ...          ...          ...          ...          ...   \n",
       "Q21_HIFLYER  3535.0     1.837058     0.596193     0.000000     2.000000   \n",
       "Q22A_USESJC  3535.0     1.718812     0.584292     0.000000     2.000000   \n",
       "Q22B_USEOAK  3535.0     1.663932     0.612257     0.000000     1.000000   \n",
       "LANG         3535.0     1.159264     0.628356     1.000000     1.000000   \n",
       "WEIGHT       3535.0     0.999973     0.481986     0.553675     0.595689   \n",
       "\n",
       "                     50%          75%          max  \n",
       "RESPNUM      2137.000000  3168.500000  9995.000000  \n",
       "RUN          1918.000000  2403.000000  2806.000000  \n",
       "INTDATE         9.000000    14.000000    18.000000  \n",
       "GATE           52.000000    87.000000   102.000000  \n",
       "STRATA          2.000000     3.000000     3.000000  \n",
       "...                  ...          ...          ...  \n",
       "Q21_HIFLYER     2.000000     2.000000     4.000000  \n",
       "Q22A_USESJC     2.000000     2.000000     4.000000  \n",
       "Q22B_USEOAK     2.000000     2.000000     4.000000  \n",
       "LANG            1.000000     1.000000     4.000000  \n",
       "WEIGHT          0.892167     1.266708     1.870831  \n",
       "\n",
       "[63 rows x 8 columns]"
      ]
     },
     "execution_count": 44,
     "metadata": {},
     "output_type": "execute_result"
    }
   ],
   "source": [
    "customer.describe().T"
   ]
  },
  {
   "cell_type": "code",
   "execution_count": 45,
   "metadata": {},
   "outputs": [
    {
     "data": {
      "text/plain": [
       "<matplotlib.axes._subplots.AxesSubplot at 0x21e0b78f240>"
      ]
     },
     "execution_count": 45,
     "metadata": {},
     "output_type": "execute_result"
    },
    {
     "data": {
      "image/png": "[encoded data removed]",
      "text/plain": [
       "<Figure size 432x288 with 2 Axes>"
      ]
     },
     "metadata": {
      "needs_background": "light"
     },
     "output_type": "display_data"
    }
   ],
   "source": [
    "sns.heatmap(customer.corr())"
   ]
  },
  {
   "cell_type": "markdown",
   "metadata": {},
   "source": [
    "# Chicago Food Inspections Data"
   ]
  },
  {
   "cell_type": "code",
   "execution_count": 46,
   "metadata": {},
   "outputs": [],
   "source": [
    "# load in the data set\n",
    "food = pd.read_csv('../Chapter03/Food_Inspections.csv')"
   ]
  },
  {
   "cell_type": "code",
   "execution_count": 47,
   "metadata": {},
   "outputs": [
    {
     "name": "stdout",
     "output_type": "stream",
     "text": [
      "<class 'pandas.core.frame.DataFrame'>\n",
      "RangeIndex: 154657 entries, 0 to 154656\n",
      "Data columns (total 17 columns):\n",
      "Inspection ID      154657 non-null int64\n",
      "DBA Name           154657 non-null object\n",
      "AKA Name           152113 non-null object\n",
      "License #          154642 non-null float64\n",
      "Facility Type      150086 non-null object\n",
      "Risk               154589 non-null object\n",
      "Address            154657 non-null object\n",
      "City               154497 non-null object\n",
      "State              154648 non-null object\n",
      "Zip                154559 non-null float64\n",
      "Inspection Date    154657 non-null object\n",
      "Inspection Type    154656 non-null object\n",
      "Results            154657 non-null object\n",
      "Violations         123679 non-null object\n",
      "Latitude           154110 non-null float64\n",
      "Longitude          154110 non-null float64\n",
      "Location           154110 non-null object\n",
      "dtypes: float64(4), int64(1), object(12)\n",
      "memory usage: 20.1+ MB\n"
     ]
    }
   ],
   "source": [
    "food.info()"
   ]
  },
  {
   "cell_type": "code",
   "execution_count": 48,
   "metadata": {},
   "outputs": [
    {
     "data": {
      "text/plain": [
       "Inspection ID          0\n",
       "DBA Name               0\n",
       "AKA Name            2544\n",
       "License #             15\n",
       "Facility Type       4571\n",
       "Risk                  68\n",
       "Address                0\n",
       "City                 160\n",
       "State                  9\n",
       "Zip                   98\n",
       "Inspection Date        0\n",
       "Inspection Type        1\n",
       "Results                0\n",
       "Violations         30978\n",
       "Latitude             547\n",
       "Longitude            547\n",
       "Location             547\n",
       "dtype: int64"
      ]
     },
     "execution_count": 48,
     "metadata": {},
     "output_type": "execute_result"
    }
   ],
   "source": [
    "food.isnull().sum()"
   ]
  },
  {
   "cell_type": "code",
   "execution_count": 49,
   "metadata": {},
   "outputs": [
    {
     "data": {
      "text/html": [
       "<div>\n",
       "<style scoped>\n",
       "    .dataframe tbody tr th:only-of-type {\n",
       "        vertical-align: middle;\n",
       "    }\n",
       "\n",
       "    .dataframe tbody tr th {\n",
       "        vertical-align: top;\n",
       "    }\n",
       "\n",
       "    .dataframe thead th {\n",
       "        text-align: right;\n",
       "    }\n",
       "</style>\n",
       "<table border=\"1\" class=\"dataframe\">\n",
       "  <thead>\n",
       "    <tr style=\"text-align: right;\">\n",
       "      <th></th>\n",
       "      <th>Inspection ID</th>\n",
       "      <th>DBA Name</th>\n",
       "      <th>AKA Name</th>\n",
       "      <th>License #</th>\n",
       "      <th>Facility Type</th>\n",
       "      <th>Risk</th>\n",
       "      <th>Address</th>\n",
       "      <th>City</th>\n",
       "      <th>State</th>\n",
       "      <th>Zip</th>\n",
       "      <th>Inspection Date</th>\n",
       "      <th>Inspection Type</th>\n",
       "      <th>Results</th>\n",
       "      <th>Violations</th>\n",
       "      <th>Latitude</th>\n",
       "      <th>Longitude</th>\n",
       "      <th>Location</th>\n",
       "    </tr>\n",
       "  </thead>\n",
       "  <tbody>\n",
       "    <tr>\n",
       "      <th>0</th>\n",
       "      <td>2081933</td>\n",
       "      <td>KOME</td>\n",
       "      <td>KOME</td>\n",
       "      <td>2542243.0</td>\n",
       "      <td>Restaurant</td>\n",
       "      <td>Risk 1 (High)</td>\n",
       "      <td>1303 S MICHIGAN AVE</td>\n",
       "      <td>CHICAGO</td>\n",
       "      <td>IL</td>\n",
       "      <td>60605.0</td>\n",
       "      <td>09/12/2017</td>\n",
       "      <td>License</td>\n",
       "      <td>Pass</td>\n",
       "      <td>37. TOILET ROOM DOORS SELF CLOSING: DRESSING R...</td>\n",
       "      <td>41.865649</td>\n",
       "      <td>-87.623965</td>\n",
       "      <td>(41.865648779880125, -87.62396517625166)</td>\n",
       "    </tr>\n",
       "    <tr>\n",
       "      <th>1</th>\n",
       "      <td>1955876</td>\n",
       "      <td>A&amp;T PANCAKE HOUSE</td>\n",
       "      <td>A&amp;T PANCAKE HOUSE</td>\n",
       "      <td>2293343.0</td>\n",
       "      <td>Restaurant</td>\n",
       "      <td>Risk 1 (High)</td>\n",
       "      <td>7036 N CLARK ST</td>\n",
       "      <td>CHICAGO</td>\n",
       "      <td>IL</td>\n",
       "      <td>60626.0</td>\n",
       "      <td>09/12/2017</td>\n",
       "      <td>Complaint</td>\n",
       "      <td>Fail</td>\n",
       "      <td>18. NO EVIDENCE OF RODENT OR INSECT OUTER OPEN...</td>\n",
       "      <td>42.010124</td>\n",
       "      <td>-87.674370</td>\n",
       "      <td>(42.01012437485032, -87.67436989898064)</td>\n",
       "    </tr>\n",
       "  </tbody>\n",
       "</table>\n",
       "</div>"
      ],
      "text/plain": [
       "   Inspection ID           DBA Name           AKA Name  License #  \\\n",
       "0        2081933               KOME               KOME  2542243.0   \n",
       "1        1955876  A&T PANCAKE HOUSE  A&T PANCAKE HOUSE  2293343.0   \n",
       "\n",
       "  Facility Type           Risk               Address     City State      Zip  \\\n",
       "0    Restaurant  Risk 1 (High)  1303 S MICHIGAN AVE   CHICAGO    IL  60605.0   \n",
       "1    Restaurant  Risk 1 (High)      7036 N CLARK ST   CHICAGO    IL  60626.0   \n",
       "\n",
       "  Inspection Date Inspection Type Results  \\\n",
       "0      09/12/2017         License    Pass   \n",
       "1      09/12/2017       Complaint    Fail   \n",
       "\n",
       "                                          Violations   Latitude  Longitude  \\\n",
       "0  37. TOILET ROOM DOORS SELF CLOSING: DRESSING R...  41.865649 -87.623965   \n",
       "1  18. NO EVIDENCE OF RODENT OR INSECT OUTER OPEN...  42.010124 -87.674370   \n",
       "\n",
       "                                   Location  \n",
       "0  (41.865648779880125, -87.62396517625166)  \n",
       "1   (42.01012437485032, -87.67436989898064)  "
      ]
     },
     "execution_count": 49,
     "metadata": {},
     "output_type": "execute_result"
    }
   ],
   "source": [
    "food.head(2)"
   ]
  },
  {
   "cell_type": "code",
   "execution_count": 50,
   "metadata": {},
   "outputs": [
    {
     "data": {
      "text/plain": [
       "array(['Pass', 'Fail', 'Not Ready', 'No Entry', 'Out of Business',\n",
       "       'Pass w/ Conditions', 'Business Not Located'], dtype=object)"
      ]
     },
     "execution_count": 50,
     "metadata": {},
     "output_type": "execute_result"
    }
   ],
   "source": [
    "food['Results'].unique()"
   ]
  },
  {
   "cell_type": "code",
   "execution_count": 51,
   "metadata": {},
   "outputs": [
    {
     "data": {
      "text/plain": [
       "array(['Risk 1 (High)', 'Risk 3 (Low)', 'Risk 2 (Medium)', nan, 'All'],\n",
       "      dtype=object)"
      ]
     },
     "execution_count": 51,
     "metadata": {},
     "output_type": "execute_result"
    }
   ],
   "source": [
    "food['Risk'].unique()"
   ]
  },
  {
   "cell_type": "markdown",
   "metadata": {},
   "source": [
    "This dataset is a good example of descriptive data:\n",
    "Understanding the type of data that we are working with will give us a better idea of what type of ML model to impelement."
   ]
  },
  {
   "cell_type": "code",
   "execution_count": 52,
   "metadata": {},
   "outputs": [
    {
     "data": {
      "text/plain": [
       "Text(0.5, 1.0, 'Number of Zipcodes by Risk')"
      ]
     },
     "execution_count": 52,
     "metadata": {},
     "output_type": "execute_result"
    },
    {
     "data": {
      "image/png": "[encoded data removed]",
      "text/plain": [
       "<Figure size 1080x360 with 1 Axes>"
      ]
     },
     "metadata": {
      "needs_background": "light"
     },
     "output_type": "display_data"
    }
   ],
   "source": [
    "fig = plt.figure(figsize=(15,5))\n",
    "ax = fig.gca()\n",
    "\n",
    "food.groupby('Risk')[['Zip']].count().sort_values(\n",
    "    'Zip', ascending=False).tail(50).plot.bar(stacked=False, ax=ax, color='darkorange')\n",
    "ax.set_title('Number of Zipcodes by Risk')"
   ]
  },
  {
   "cell_type": "code",
   "execution_count": 53,
   "metadata": {},
   "outputs": [
    {
     "data": {
      "text/plain": [
       "Text(0.5, 1.0, 'Risk by Inspection Type')"
      ]
     },
     "execution_count": 53,
     "metadata": {},
     "output_type": "execute_result"
    },
    {
     "data": {
      "image/png": "[encoded data removed]",
      "text/plain": [
       "<Figure size 1080x360 with 1 Axes>"
      ]
     },
     "metadata": {
      "needs_background": "light"
     },
     "output_type": "display_data"
    }
   ],
   "source": [
    "fig = plt.figure(figsize=(15,5))\n",
    "ax = fig.gca()\n",
    "\n",
    "food.groupby('Inspection Type')[['Risk']].count().sort_values(\n",
    "    'Risk', ascending=False).head(10).plot.bar(stacked=False, ax=ax, color='darkorange')\n",
    "ax.set_title('Risk by Inspection Type')"
   ]
  },
  {
   "cell_type": "code",
   "execution_count": 54,
   "metadata": {},
   "outputs": [],
   "source": [
    "# Clean risk to numeric values"
   ]
  },
  {
   "cell_type": "code",
   "execution_count": 55,
   "metadata": {},
   "outputs": [],
   "source": [
    "food['Risk'] = food['Risk'].astype(str)"
   ]
  },
  {
   "cell_type": "code",
   "execution_count": 56,
   "metadata": {},
   "outputs": [],
   "source": [
    "food['Risk'] = food['Risk'].map(lambda value: value.replace('Risk', '').replace('(High)', '').replace('(Low)', '').replace('(Medium)', '').replace('All', '0').replace('nan', '0'))"
   ]
  },
  {
   "cell_type": "code",
   "execution_count": 57,
   "metadata": {},
   "outputs": [],
   "source": [
    "food['Risk'] = food['Risk'].astype(int)"
   ]
  },
  {
   "cell_type": "code",
   "execution_count": 58,
   "metadata": {},
   "outputs": [
    {
     "data": {
      "text/plain": [
       "Text(0.5, 1.0, 'Mean Risk by Inspection Type')"
      ]
     },
     "execution_count": 58,
     "metadata": {},
     "output_type": "execute_result"
    },
    {
     "data": {
      "image/png": "[encoded data removed]",
      "text/plain": [
       "<Figure size 1080x360 with 1 Axes>"
      ]
     },
     "metadata": {
      "needs_background": "light"
     },
     "output_type": "display_data"
    }
   ],
   "source": [
    "fig = plt.figure(figsize=(15,5))\n",
    "ax = fig.gca()\n",
    "\n",
    "food.groupby('Inspection Type')[['Risk']].mean().sort_values(\n",
    "    'Risk', ascending=False).head(50).plot.bar(stacked=False, ax=ax, color='darkorange')\n",
    "ax.set_title('Mean Risk by Inspection Type')"
   ]
  },
  {
   "cell_type": "markdown",
   "metadata": {},
   "source": [
    "# Whitehouse Visitor Log Dataset"
   ]
  },
  {
   "cell_type": "code",
   "execution_count": 59,
   "metadata": {},
   "outputs": [],
   "source": [
    "# load in the data set \n",
    "whitehouse = pd.read_csv('../Chapter03/whitehouse_waves-2016_12.csv',encoding = \"ISO-8859-1\")"
   ]
  },
  {
   "cell_type": "code",
   "execution_count": 60,
   "metadata": {},
   "outputs": [
    {
     "name": "stdout",
     "output_type": "stream",
     "text": [
      "<class 'pandas.core.frame.DataFrame'>\n",
      "RangeIndex: 970504 entries, 0 to 970503\n",
      "Data columns (total 28 columns):\n",
      "NAMELAST             970494 non-null object\n",
      "NAMEFIRST            970497 non-null object\n",
      "NAMEMID              778796 non-null object\n",
      "UIN                  966303 non-null object\n",
      "BDGNBR               274058 non-null float64\n",
      "ACCESS_TYPE          966273 non-null object\n",
      "TOA                  274052 non-null object\n",
      "POA                  274043 non-null object\n",
      "TOD                  162480 non-null object\n",
      "POD                  94507 non-null object\n",
      "APPT_MADE_DATE       966282 non-null object\n",
      "APPT_START_DATE      970504 non-null object\n",
      "APPT_END_DATE        970504 non-null object\n",
      "APPT_CANCEL_DATE     18868 non-null object\n",
      "Total_People         966273 non-null float64\n",
      "LAST_UPDATEDBY       965309 non-null object\n",
      "POST                 966273 non-null object\n",
      "LASTENTRYDATE        966273 non-null object\n",
      "TERMINAL_SUFFIX      965309 non-null object\n",
      "visitee_namelast     911249 non-null object\n",
      "visitee_namefirst    963723 non-null object\n",
      "MEETING_LOC          967873 non-null object\n",
      "MEETING_ROOM         966272 non-null object\n",
      "CALLER_NAME_LAST     966273 non-null object\n",
      "CALLER_NAME_FIRST    966273 non-null object\n",
      "CALLER_ROOM          0 non-null float64\n",
      "DESCRIPTION          609585 non-null object\n",
      "Release_Date         970504 non-null object\n",
      "dtypes: float64(3), object(25)\n",
      "memory usage: 207.3+ MB\n"
     ]
    }
   ],
   "source": [
    "whitehouse.info()"
   ]
  },
  {
   "cell_type": "code",
   "execution_count": 61,
   "metadata": {},
   "outputs": [
    {
     "data": {
      "text/plain": [
       "NAMELAST                 10\n",
       "NAMEFIRST                 7\n",
       "NAMEMID              191708\n",
       "UIN                    4201\n",
       "BDGNBR               696446\n",
       "ACCESS_TYPE            4231\n",
       "TOA                  696452\n",
       "POA                  696461\n",
       "TOD                  808024\n",
       "POD                  875997\n",
       "APPT_MADE_DATE         4222\n",
       "APPT_START_DATE           0\n",
       "APPT_END_DATE             0\n",
       "APPT_CANCEL_DATE     951636\n",
       "Total_People           4231\n",
       "LAST_UPDATEDBY         5195\n",
       "POST                   4231\n",
       "LASTENTRYDATE          4231\n",
       "TERMINAL_SUFFIX        5195\n",
       "visitee_namelast      59255\n",
       "visitee_namefirst      6781\n",
       "MEETING_LOC            2631\n",
       "MEETING_ROOM           4232\n",
       "CALLER_NAME_LAST       4231\n",
       "CALLER_NAME_FIRST      4231\n",
       "CALLER_ROOM          970504\n",
       "DESCRIPTION          360919\n",
       "Release_Date              0\n",
       "dtype: int64"
      ]
     },
     "execution_count": 61,
     "metadata": {},
     "output_type": "execute_result"
    }
   ],
   "source": [
    "whitehouse.isnull().sum()"
   ]
  },
  {
   "cell_type": "code",
   "execution_count": 62,
   "metadata": {},
   "outputs": [],
   "source": [
    "whitehouse.dropna(axis=1, inplace=True)"
   ]
  },
  {
   "cell_type": "code",
   "execution_count": 63,
   "metadata": {},
   "outputs": [
    {
     "data": {
      "text/html": [
       "<div>\n",
       "<style scoped>\n",
       "    .dataframe tbody tr th:only-of-type {\n",
       "        vertical-align: middle;\n",
       "    }\n",
       "\n",
       "    .dataframe tbody tr th {\n",
       "        vertical-align: top;\n",
       "    }\n",
       "\n",
       "    .dataframe thead th {\n",
       "        text-align: right;\n",
       "    }\n",
       "</style>\n",
       "<table border=\"1\" class=\"dataframe\">\n",
       "  <thead>\n",
       "    <tr style=\"text-align: right;\">\n",
       "      <th></th>\n",
       "      <th>APPT_START_DATE</th>\n",
       "      <th>APPT_END_DATE</th>\n",
       "      <th>Release_Date</th>\n",
       "    </tr>\n",
       "  </thead>\n",
       "  <tbody>\n",
       "    <tr>\n",
       "      <th>0</th>\n",
       "      <td>10/1/2015 3:00</td>\n",
       "      <td>10/1/2015 23:59</td>\n",
       "      <td>1/29/2016</td>\n",
       "    </tr>\n",
       "    <tr>\n",
       "      <th>1</th>\n",
       "      <td>10/1/2015 5:00</td>\n",
       "      <td>9/30/2016 23:59</td>\n",
       "      <td>1/29/2016</td>\n",
       "    </tr>\n",
       "    <tr>\n",
       "      <th>2</th>\n",
       "      <td>10/1/2015 5:00</td>\n",
       "      <td>9/30/2016 23:59</td>\n",
       "      <td>1/29/2016</td>\n",
       "    </tr>\n",
       "    <tr>\n",
       "      <th>3</th>\n",
       "      <td>10/1/2015 5:00</td>\n",
       "      <td>9/30/2016 23:59</td>\n",
       "      <td>1/29/2016</td>\n",
       "    </tr>\n",
       "    <tr>\n",
       "      <th>4</th>\n",
       "      <td>10/1/2015 5:00</td>\n",
       "      <td>9/30/2016 23:59</td>\n",
       "      <td>1/29/2016</td>\n",
       "    </tr>\n",
       "  </tbody>\n",
       "</table>\n",
       "</div>"
      ],
      "text/plain": [
       "  APPT_START_DATE    APPT_END_DATE Release_Date\n",
       "0  10/1/2015 3:00  10/1/2015 23:59    1/29/2016\n",
       "1  10/1/2015 5:00  9/30/2016 23:59    1/29/2016\n",
       "2  10/1/2015 5:00  9/30/2016 23:59    1/29/2016\n",
       "3  10/1/2015 5:00  9/30/2016 23:59    1/29/2016\n",
       "4  10/1/2015 5:00  9/30/2016 23:59    1/29/2016"
      ]
     },
     "execution_count": 63,
     "metadata": {},
     "output_type": "execute_result"
    }
   ],
   "source": [
    "whitehouse.head()"
   ]
  },
  {
   "cell_type": "code",
   "execution_count": 64,
   "metadata": {},
   "outputs": [],
   "source": [
    "whitehouse['APPT_START_DATE'] = pd.to_datetime(whitehouse['APPT_START_DATE'])\n",
    "whitehouse['APPT_END_DATE'] = pd.to_datetime(whitehouse['APPT_END_DATE'])"
   ]
  },
  {
   "cell_type": "code",
   "execution_count": 65,
   "metadata": {},
   "outputs": [],
   "source": [
    "whitehouse['APPT_DURATION'] = whitehouse['APPT_END_DATE'] - whitehouse['APPT_START_DATE']"
   ]
  },
  {
   "cell_type": "code",
   "execution_count": 66,
   "metadata": {},
   "outputs": [
    {
     "data": {
      "text/plain": [
       "Timedelta('1 days 03:46:03.909412')"
      ]
     },
     "execution_count": 66,
     "metadata": {},
     "output_type": "execute_result"
    }
   ],
   "source": [
    "np.mean(whitehouse['APPT_DURATION'])"
   ]
  },
  {
   "cell_type": "markdown",
   "metadata": {},
   "source": [
    "# Climate Change Dataset:"
   ]
  },
  {
   "cell_type": "code",
   "execution_count": null,
   "metadata": {},
   "outputs": [],
   "source": [
    "# load in the data set\n",
    "climate = pd.read_csv('../Chapter03/GlobalLandTemperaturesByCity.csv')"
   ]
  },
  {
   "cell_type": "code",
   "execution_count": null,
   "metadata": {},
   "outputs": [],
   "source": [
    "climate.head()"
   ]
  },
  {
   "cell_type": "code",
   "execution_count": null,
   "metadata": {},
   "outputs": [],
   "source": [
    "climate.info()"
   ]
  },
  {
   "cell_type": "code",
   "execution_count": null,
   "metadata": {},
   "outputs": [],
   "source": [
    "climate.isnull().sum()"
   ]
  },
  {
   "cell_type": "code",
   "execution_count": null,
   "metadata": {},
   "outputs": [],
   "source": [
    "# remove missing values\n",
    "climate.dropna(axis=0, inplace=True)"
   ]
  },
  {
   "cell_type": "code",
   "execution_count": null,
   "metadata": {},
   "outputs": [],
   "source": [
    "climate.head()"
   ]
  },
  {
   "cell_type": "code",
   "execution_count": null,
   "metadata": {},
   "outputs": [],
   "source": [
    "# remove the \"N\" and \"S\" from Latitude\n",
    "climate['Latitude'] = climate['Latitude'].map(lambda value: value.replace('N', '').replace('S', ''))"
   ]
  },
  {
   "cell_type": "code",
   "execution_count": null,
   "metadata": {},
   "outputs": [],
   "source": [
    "# remove the \"W\" and \"E\" from Longitude\n",
    "climate['Longitude'] = climate['Longitude'].map(lambda value: value.replace('E', '').replace('W', ''))"
   ]
  },
  {
   "cell_type": "code",
   "execution_count": null,
   "metadata": {},
   "outputs": [],
   "source": [
    "# Cast Longitude as a float\n",
    "climate['Longitude'] = climate['Longitude'].astype(float)"
   ]
  },
  {
   "cell_type": "code",
   "execution_count": null,
   "metadata": {},
   "outputs": [],
   "source": [
    "# Cast Latitude as a float\n",
    "climate['Latitude'] = climate['Latitude'].astype(float)"
   ]
  },
  {
   "cell_type": "code",
   "execution_count": null,
   "metadata": {},
   "outputs": [],
   "source": [
    "fig = plt.figure(figsize=(15,5))\n",
    "ax = fig.gca()\n",
    "\n",
    "climate.groupby('Country')[['AverageTemperature']].max().sort_values(\n",
    "    'AverageTemperature', ascending=False).head(50).plot.bar(stacked=False, ax=ax, color='darkorange')\n",
    "ax.set_title('Max Avg Temp by Country')"
   ]
  },
  {
   "cell_type": "code",
   "execution_count": null,
   "metadata": {},
   "outputs": [],
   "source": [
    "# Convert the dt column to datetime and extract the year\n",
    "climate['dt'] = pd.to_datetime(climate['dt'])\n",
    "climate['year'] = climate['dt'].map(lambda value: value.year)"
   ]
  },
  {
   "cell_type": "code",
   "execution_count": null,
   "metadata": {},
   "outputs": [],
   "source": [
    "climate.head()"
   ]
  },
  {
   "cell_type": "code",
   "execution_count": null,
   "metadata": {},
   "outputs": [],
   "source": [
    "climate['AverageTemperature'].nunique()"
   ]
  },
  {
   "cell_type": "code",
   "execution_count": null,
   "metadata": {},
   "outputs": [],
   "source": [
    "climate['AverageTemperature'].hist()"
   ]
  },
  {
   "cell_type": "code",
   "execution_count": null,
   "metadata": {},
   "outputs": [],
   "source": [
    "climate['AverageTemperature'].describe()"
   ]
  },
  {
   "cell_type": "code",
   "execution_count": null,
   "metadata": {},
   "outputs": [],
   "source": []
  },
  {
   "cell_type": "code",
   "execution_count": null,
   "metadata": {},
   "outputs": [],
   "source": [
    "# Raw scatterplot to show average temperatures in the world\n",
    "\n",
    "x = climate['year']\n",
    "y = climate['AverageTemperature']\n",
    "\n",
    "fig, ax = plt.subplots(figsize=(10,5))\n",
    "ax.scatter(x, y)\n",
    "plt.show()"
   ]
  },
  {
   "cell_type": "code",
   "execution_count": null,
   "metadata": {},
   "outputs": [],
   "source": [
    "# Oof, how about a subset the data to just the US?\n",
    "climate_sub_us = climate.loc[climate['Country'] == 'United States']"
   ]
  },
  {
   "cell_type": "code",
   "execution_count": null,
   "metadata": {},
   "outputs": [],
   "source": [
    "climate_sub_us['century'] = climate_sub_us['year'].map(lambda x: x/100+1)"
   ]
  },
  {
   "cell_type": "code",
   "execution_count": null,
   "metadata": {},
   "outputs": [],
   "source": [
    "climate_sub_us['AverageTemperature'].hist(by=climate_sub_us['century'], \n",
    "                                          sharex=True, sharey=True, \n",
    "                                          figsize=(10, 10), \n",
    "                                          bins=20)"
   ]
  },
  {
   "cell_type": "code",
   "execution_count": null,
   "metadata": {},
   "outputs": [],
   "source": [
    "climate_sub_us.groupby('century')['AverageTemperature'].mean().plot(kind='line')"
   ]
  },
  {
   "cell_type": "code",
   "execution_count": null,
   "metadata": {},
   "outputs": [],
   "source": [
    "century_changes = climate_sub_us.groupby('century')['AverageTemperature'].mean()\n",
    "\n",
    "# 21st century average temp in US minus 18th century average temp in US\n",
    "century_changes[21] - century_changes[18]  "
   ]
  },
  {
   "cell_type": "code",
   "execution_count": null,
   "metadata": {},
   "outputs": [],
   "source": [
    "century_changes"
   ]
  },
  {
   "cell_type": "code",
   "execution_count": null,
   "metadata": {},
   "outputs": [],
   "source": [
    "x = climate_sub_us['year']\n",
    "y = climate_sub_us['AverageTemperature']\n",
    "\n",
    "fig, ax = plt.subplots(figsize=(10,5))\n",
    "ax.scatter(x, y)\n",
    "plt.show()"
   ]
  },
  {
   "cell_type": "code",
   "execution_count": null,
   "metadata": {},
   "outputs": [],
   "source": [
    "# Not much better, Let's use a groupby to reduce the amount of noise in the US\n",
    "climate_sub_us.groupby('year').mean()['AverageTemperature'].plot()"
   ]
  },
  {
   "cell_type": "code",
   "execution_count": null,
   "metadata": {},
   "outputs": [],
   "source": [
    "# And a moving average to smooth it all out:\n",
    "climate_sub_us.groupby('year').mean()['AverageTemperature'].rolling(10).mean().plot()"
   ]
  },
  {
   "cell_type": "code",
   "execution_count": null,
   "metadata": {},
   "outputs": [],
   "source": []
  },
  {
   "cell_type": "code",
   "execution_count": null,
   "metadata": {},
   "outputs": [],
   "source": [
    "fig = plt.figure(figsize=(15,5))\n",
    "ax = fig.gca()\n",
    "\n",
    "climate_sub_us.groupby('City')[['AverageTemperature']].max().sort_values(\n",
    "    'AverageTemperature', ascending=False).tail(50).plot.bar(stacked=False, ax=ax, color='darkorange')\n",
    "ax.set_title('Max Avg Temp by US City')"
   ]
  },
  {
   "cell_type": "code",
   "execution_count": null,
   "metadata": {},
   "outputs": [],
   "source": []
  },
  {
   "cell_type": "code",
   "execution_count": null,
   "metadata": {},
   "outputs": [],
   "source": []
  },
  {
   "cell_type": "code",
   "execution_count": null,
   "metadata": {},
   "outputs": [],
   "source": []
  },
  {
   "cell_type": "code",
   "execution_count": null,
   "metadata": {},
   "outputs": [],
   "source": []
  },
  {
   "cell_type": "code",
   "execution_count": null,
   "metadata": {},
   "outputs": [],
   "source": []
  },
  {
   "cell_type": "code",
   "execution_count": null,
   "metadata": {},
   "outputs": [],
   "source": []
  }
 ],
 "metadata": {
  "kernelspec": {
   "display_name": "Python 3",
   "language": "python",
   "name": "python3"
  },
  "language_info": {
   "codemirror_mode": {
    "name": "ipython",
    "version": 3
   },
   "file_extension": ".py",
   "mimetype": "text/x-python",
   "name": "python",
   "nbconvert_exporter": "python",
   "pygments_lexer": "ipython3",
   "version": "3.7.3"
  }
 },
 "nbformat": 4,
 "nbformat_minor": 1
}
